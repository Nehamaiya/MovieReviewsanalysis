{
 "cells": [
  {
   "cell_type": "code",
   "execution_count": 1,
   "metadata": {},
   "outputs": [],
   "source": [
    "from glob import glob\n",
    "import pandas as pd\n",
    "import numpy as np\n",
    "from nltk.tokenize import sent_tokenize, word_tokenize, RegexpTokenizer\n",
    "from nltk.stem import PorterStemmer\n",
    "from sklearn.feature_extraction.text import CountVectorizer\n",
    "from sklearn.naive_bayes import MultinomialNB\n",
    "from sklearn.linear_model import LogisticRegression\n",
    "import itertools\n",
    "import re\n",
    "import os\n",
    "import string\n",
    "import tensorflow as tf\n",
    "from tensorflow.keras import backend as K\n",
    "from tensorflow.keras.models import Sequential\n",
    "from tensorflow.keras.layers import Dense, BatchNormalization, Dropout, Activation\n",
    "from tensorflow.keras.callbacks import ModelCheckpoint, EarlyStopping\n",
    "from tensorflow.keras.regularizers import l2\n",
    "from tensorflow.keras.models import load_model\n",
    "from sklearn.model_selection import train_test_split\n",
    "from IPython.display import Image\n",
    "from math import ceil\n",
    "import seaborn as sns\n",
    "from tqdm import tqdm_notebook"
   ]
  },
  {
   "cell_type": "code",
   "execution_count": 2,
   "metadata": {},
   "outputs": [],
   "source": [
    "import os\n",
    "import random\n",
    "import re\n",
    "import nltk\n",
    "import time\n",
    "\n",
    "import numpy as np # linear algebra\n",
    "import pandas as pd # data processing, CSV file I/O (e.g. pd.read_csv)\n",
    "import matplotlib.pyplot as plt\n",
    "from sklearn.manifold import TSNE\n",
    "from sklearn.feature_selection import SelectKBest , f_classif\n",
    "from tqdm import tqdm as t\n",
    "from sklearn.feature_extraction.text import CountVectorizer, TfidfVectorizer\n",
    "\n",
    "from nltk.corpus import stopwords"
   ]
  },
  {
   "cell_type": "code",
   "execution_count": 3,
   "metadata": {},
   "outputs": [
    {
     "name": "stderr",
     "output_type": "stream",
     "text": [
      "Using TensorFlow backend.\n"
     ]
    },
    {
     "data": {
      "text/html": [
       "        <script type=\"text/javascript\">\n",
       "        window.PlotlyConfig = {MathJaxConfig: 'local'};\n",
       "        if (window.MathJax) {MathJax.Hub.Config({SVG: {font: \"STIX-Web\"}});}\n",
       "        if (typeof require !== 'undefined') {\n",
       "        require.undef(\"plotly\");\n",
       "        requirejs.config({\n",
       "            paths: {\n",
       "                'plotly': ['https://cdn.plot.ly/plotly-latest.min']\n",
       "            }\n",
       "        });\n",
       "        require(['plotly'], function(Plotly) {\n",
       "            window._Plotly = Plotly;\n",
       "        });\n",
       "        }\n",
       "        </script>\n",
       "        "
      ]
     },
     "metadata": {},
     "output_type": "display_data"
    }
   ],
   "source": [
    "import numpy as np\n",
    "import pandas as pd\n",
    "import seaborn as sns\n",
    "import matplotlib.pyplot as plt\n",
    "import os\n",
    "from tqdm import tqdm_notebook\n",
    "\n",
    "from sklearn.metrics import accuracy_score, confusion_matrix\n",
    "from sklearn.model_selection import train_test_split, GridSearchCV\n",
    "from sklearn.feature_extraction.text import TfidfVectorizer, CountVectorizer\n",
    "from sklearn.linear_model import LogisticRegression\n",
    "from sklearn.pipeline import Pipeline\n",
    "from sklearn.naive_bayes import BernoulliNB\n",
    "import eli5\n",
    "from scipy.sparse import hstack, vstack\n",
    "\n",
    "from wordcloud import WordCloud, STOPWORDS\n",
    "from collections import defaultdict\n",
    "import plotly.graph_objs as go\n",
    "from plotly import tools\n",
    "import plotly.offline as py\n",
    "py.init_notebook_mode(connected=True)\n",
    "import textblob\n",
    "import string"
   ]
  },
  {
   "cell_type": "code",
   "execution_count": 4,
   "metadata": {},
   "outputs": [
    {
     "name": "stdout",
     "output_type": "stream",
     "text": [
      "['aclImdb', 'imdb.vocab', 'imdbEr.txt', 'README', 'test', 'train']\n"
     ]
    }
   ],
   "source": [
    "print(os.listdir('C:/Users/Neha Maiya/reviews/aclImdb'))#link4"
   ]
  },
  {
   "cell_type": "code",
   "execution_count": 5,
   "metadata": {},
   "outputs": [],
   "source": [
    "PATH = 'C:/Users/Neha Maiya/reviews/aclImdb' #link4"
   ]
  },
  {
   "cell_type": "code",
   "execution_count": 6,
   "metadata": {},
   "outputs": [
    {
     "data": {
      "text/plain": [
       "'utf-8'"
      ]
     },
     "execution_count": 6,
     "metadata": {},
     "output_type": "execute_result"
    }
   ],
   "source": [
    "import sys\n",
    "sys.getdefaultencoding()"
   ]
  },
  {
   "cell_type": "code",
   "execution_count": 7,
   "metadata": {},
   "outputs": [],
   "source": [
    "\n",
    "posFiles = [x for x in os.listdir(PATH+\"/train/pos/\") if x.endswith(\".txt\")]\n",
    "negFiles = [x for x in os.listdir(PATH+\"/train/neg/\") if x.endswith(\".txt\")]#link 8\n",
    "\n",
    "# testFiles = [x for x in os.listdir(PATH+\"test/\") if x.endswith(\".txt\")]"
   ]
  },
  {
   "cell_type": "code",
   "execution_count": 8,
   "metadata": {},
   "outputs": [],
   "source": [
    "test_pos_Files= [x for x in os.listdir(PATH+\"/test/pos/\") if x.endswith(\".txt\")]\n",
    "test_neg_Files=[x for x in os.listdir(PATH+\"/test/neg/\") if x.endswith(\".txt\")]  #link 8"
   ]
  },
  {
   "cell_type": "code",
   "execution_count": 9,
   "metadata": {},
   "outputs": [],
   "source": [
    "P_train=[]\n",
    "N_train=[]\n",
    "\n",
    "for nfile in negFiles:\n",
    "    with open(PATH+\"/train/neg/\"+nfile, encoding=\"utf-8\") as f:\n",
    "        N_train.append(f.read())\n",
    "for pfile in posFiles:\n",
    "    with open(PATH+\"/train/pos/\"+pfile, encoding=\"utf-8\") as f:\n",
    "        P_train.append(f.read())\n",
    "        #link 8\n"
   ]
  },
  {
   "cell_type": "code",
   "execution_count": 10,
   "metadata": {},
   "outputs": [],
   "source": [
    "P_test=[]\n",
    "N_test=[]\n",
    "for ptestfile in test_pos_Files:\n",
    "    with open(PATH+\"/test/pos/\"+ptestfile, encoding=\"utf-8\") as f:\n",
    "        P_test.append(f.read())\n",
    "for ntestfile in test_neg_Files:\n",
    "    with open(PATH+\"/test/neg/\"+ntestfile, encoding=\"utf-8\") as f:\n",
    "        N_test.append(f.read())\n",
    "        #link 8"
   ]
  },
  {
   "cell_type": "code",
   "execution_count": 11,
   "metadata": {},
   "outputs": [],
   "source": [
    "# change_names = reviews_train.columns.tolist()\n",
    "# change_names[change_names.index('label')] = 'Sentiment'\n",
    "# reviews_train.columns = change_names\n",
    "# reviews_train.head()"
   ]
  },
  {
   "cell_type": "code",
   "execution_count": 12,
   "metadata": {},
   "outputs": [
    {
     "data": {
      "text/html": [
       "<div>\n",
       "<style scoped>\n",
       "    .dataframe tbody tr th:only-of-type {\n",
       "        vertical-align: middle;\n",
       "    }\n",
       "\n",
       "    .dataframe tbody tr th {\n",
       "        vertical-align: top;\n",
       "    }\n",
       "\n",
       "    .dataframe thead th {\n",
       "        text-align: right;\n",
       "    }\n",
       "</style>\n",
       "<table border=\"1\" class=\"dataframe\">\n",
       "  <thead>\n",
       "    <tr style=\"text-align: right;\">\n",
       "      <th></th>\n",
       "      <th>review</th>\n",
       "      <th>Label</th>\n",
       "      <th>file</th>\n",
       "    </tr>\n",
       "  </thead>\n",
       "  <tbody>\n",
       "    <tr>\n",
       "      <td>21492</td>\n",
       "      <td>I have copy of this on VHS, I think they (The ...</td>\n",
       "      <td>-1</td>\n",
       "      <td>6844_1.txt</td>\n",
       "    </tr>\n",
       "    <tr>\n",
       "      <td>9488</td>\n",
       "      <td>After several extremely well ratings to the po...</td>\n",
       "      <td>1</td>\n",
       "      <td>7290_10.txt</td>\n",
       "    </tr>\n",
       "    <tr>\n",
       "      <td>16933</td>\n",
       "      <td>I still don't know why I forced myself to sit ...</td>\n",
       "      <td>-1</td>\n",
       "      <td>2740_1.txt</td>\n",
       "    </tr>\n",
       "    <tr>\n",
       "      <td>12604</td>\n",
       "      <td>Mt little sister and I are self-proclaimed hor...</td>\n",
       "      <td>-1</td>\n",
       "      <td>10094_1.txt</td>\n",
       "    </tr>\n",
       "    <tr>\n",
       "      <td>8222</td>\n",
       "      <td>I have personally seen many Disney movies in m...</td>\n",
       "      <td>1</td>\n",
       "      <td>6150_7.txt</td>\n",
       "    </tr>\n",
       "  </tbody>\n",
       "</table>\n",
       "</div>"
      ],
      "text/plain": [
       "                                                  review  Label         file\n",
       "21492  I have copy of this on VHS, I think they (The ...     -1   6844_1.txt\n",
       "9488   After several extremely well ratings to the po...      1  7290_10.txt\n",
       "16933  I still don't know why I forced myself to sit ...     -1   2740_1.txt\n",
       "12604  Mt little sister and I are self-proclaimed hor...     -1  10094_1.txt\n",
       "8222   I have personally seen many Disney movies in m...      1   6150_7.txt"
      ]
     },
     "execution_count": 12,
     "metadata": {},
     "output_type": "execute_result"
    }
   ],
   "source": [
    "reviews_train = pd.concat([\n",
    "    pd.DataFrame({\"review\":P_train, \"Label\":1, \"file\":posFiles}),\n",
    "    pd.DataFrame({\"review\":N_train, \"Label\":-1, \"file\":negFiles})\n",
    "], ignore_index=True).sample(frac=1, random_state=1)\n",
    "reviews_train.head()\n"
   ]
  },
  {
   "cell_type": "code",
   "execution_count": 13,
   "metadata": {},
   "outputs": [],
   "source": [
    "# change_names_test = reviews_test.columns.tolist()\n",
    "# change_names_test[change_names_test.index('Sentiment')] = 'Sentiment_Test'\n",
    "# reviews_test.columns = change_names_test"
   ]
  },
  {
   "cell_type": "code",
   "execution_count": 14,
   "metadata": {},
   "outputs": [
    {
     "data": {
      "text/html": [
       "<div>\n",
       "<style scoped>\n",
       "    .dataframe tbody tr th:only-of-type {\n",
       "        vertical-align: middle;\n",
       "    }\n",
       "\n",
       "    .dataframe tbody tr th {\n",
       "        vertical-align: top;\n",
       "    }\n",
       "\n",
       "    .dataframe thead th {\n",
       "        text-align: right;\n",
       "    }\n",
       "</style>\n",
       "<table border=\"1\" class=\"dataframe\">\n",
       "  <thead>\n",
       "    <tr style=\"text-align: right;\">\n",
       "      <th></th>\n",
       "      <th>review</th>\n",
       "      <th>Label</th>\n",
       "      <th>file</th>\n",
       "    </tr>\n",
       "  </thead>\n",
       "  <tbody>\n",
       "    <tr>\n",
       "      <td>21492</td>\n",
       "      <td>A movie theater with a bad history of past gru...</td>\n",
       "      <td>-2</td>\n",
       "      <td>6844_2.txt</td>\n",
       "    </tr>\n",
       "    <tr>\n",
       "      <td>9488</td>\n",
       "      <td>\"Here On Earth\" is a surprising beautiful roma...</td>\n",
       "      <td>2</td>\n",
       "      <td>7290_10.txt</td>\n",
       "    </tr>\n",
       "    <tr>\n",
       "      <td>16933</td>\n",
       "      <td>I just watched Descent. Gawds what an awful mo...</td>\n",
       "      <td>-2</td>\n",
       "      <td>2740_3.txt</td>\n",
       "    </tr>\n",
       "    <tr>\n",
       "      <td>12604</td>\n",
       "      <td>In a nutshell the movie is about a gang war in...</td>\n",
       "      <td>-2</td>\n",
       "      <td>10094_4.txt</td>\n",
       "    </tr>\n",
       "    <tr>\n",
       "      <td>8222</td>\n",
       "      <td>Instead of watching the recycled history of \"P...</td>\n",
       "      <td>2</td>\n",
       "      <td>6150_7.txt</td>\n",
       "    </tr>\n",
       "  </tbody>\n",
       "</table>\n",
       "</div>"
      ],
      "text/plain": [
       "                                                  review  Label         file\n",
       "21492  A movie theater with a bad history of past gru...     -2   6844_2.txt\n",
       "9488   \"Here On Earth\" is a surprising beautiful roma...      2  7290_10.txt\n",
       "16933  I just watched Descent. Gawds what an awful mo...     -2   2740_3.txt\n",
       "12604  In a nutshell the movie is about a gang war in...     -2  10094_4.txt\n",
       "8222   Instead of watching the recycled history of \"P...      2   6150_7.txt"
      ]
     },
     "execution_count": 14,
     "metadata": {},
     "output_type": "execute_result"
    }
   ],
   "source": [
    "    reviews_test = pd.concat([\n",
    "    pd.DataFrame({\"review\":P_test, \"Label\":2, \"file\":test_pos_Files}),\n",
    "    pd.DataFrame({\"review\":N_test, \"Label\":-2,\"file\":test_neg_Files})\n",
    "], ignore_index=True).sample(frac=1, random_state=1)\n",
    "reviews_test.head()"
   ]
  },
  {
   "cell_type": "code",
   "execution_count": 15,
   "metadata": {},
   "outputs": [
    {
     "name": "stdout",
     "output_type": "stream",
     "text": [
      "<class 'pandas.core.frame.DataFrame'>\n",
      "Int64Index: 25000 entries, 21492 to 235\n",
      "Data columns (total 3 columns):\n",
      "review    25000 non-null object\n",
      "Label     25000 non-null int64\n",
      "file      25000 non-null object\n",
      "dtypes: int64(1), object(2)\n",
      "memory usage: 781.2+ KB\n"
     ]
    }
   ],
   "source": [
    "reviews_train.info()"
   ]
  },
  {
   "cell_type": "code",
   "execution_count": 16,
   "metadata": {},
   "outputs": [
    {
     "data": {
      "text/html": [
       "<div>\n",
       "<style scoped>\n",
       "    .dataframe tbody tr th:only-of-type {\n",
       "        vertical-align: middle;\n",
       "    }\n",
       "\n",
       "    .dataframe tbody tr th {\n",
       "        vertical-align: top;\n",
       "    }\n",
       "\n",
       "    .dataframe thead th {\n",
       "        text-align: right;\n",
       "    }\n",
       "</style>\n",
       "<table border=\"1\" class=\"dataframe\">\n",
       "  <thead>\n",
       "    <tr style=\"text-align: right;\">\n",
       "      <th></th>\n",
       "      <th>Label</th>\n",
       "    </tr>\n",
       "  </thead>\n",
       "  <tbody>\n",
       "    <tr>\n",
       "      <td>count</td>\n",
       "      <td>25000.00000</td>\n",
       "    </tr>\n",
       "    <tr>\n",
       "      <td>mean</td>\n",
       "      <td>0.00000</td>\n",
       "    </tr>\n",
       "    <tr>\n",
       "      <td>std</td>\n",
       "      <td>1.00002</td>\n",
       "    </tr>\n",
       "    <tr>\n",
       "      <td>min</td>\n",
       "      <td>-1.00000</td>\n",
       "    </tr>\n",
       "    <tr>\n",
       "      <td>25%</td>\n",
       "      <td>-1.00000</td>\n",
       "    </tr>\n",
       "    <tr>\n",
       "      <td>50%</td>\n",
       "      <td>0.00000</td>\n",
       "    </tr>\n",
       "    <tr>\n",
       "      <td>75%</td>\n",
       "      <td>1.00000</td>\n",
       "    </tr>\n",
       "    <tr>\n",
       "      <td>max</td>\n",
       "      <td>1.00000</td>\n",
       "    </tr>\n",
       "  </tbody>\n",
       "</table>\n",
       "</div>"
      ],
      "text/plain": [
       "             Label\n",
       "count  25000.00000\n",
       "mean       0.00000\n",
       "std        1.00002\n",
       "min       -1.00000\n",
       "25%       -1.00000\n",
       "50%        0.00000\n",
       "75%        1.00000\n",
       "max        1.00000"
      ]
     },
     "execution_count": 16,
     "metadata": {},
     "output_type": "execute_result"
    }
   ],
   "source": [
    "reviews_train.describe()"
   ]
  },
  {
   "cell_type": "code",
   "execution_count": 17,
   "metadata": {},
   "outputs": [
    {
     "data": {
      "text/plain": [
       "(25000, 3)"
      ]
     },
     "execution_count": 17,
     "metadata": {},
     "output_type": "execute_result"
    }
   ],
   "source": [
    "reviews_train.shape"
   ]
  },
  {
   "cell_type": "code",
   "execution_count": 18,
   "metadata": {},
   "outputs": [
    {
     "data": {
      "text/plain": [
       "array([-1,  1], dtype=int64)"
      ]
     },
     "execution_count": 18,
     "metadata": {},
     "output_type": "execute_result"
    }
   ],
   "source": [
    "reviews_train['Label'].unique()"
   ]
  },
  {
   "cell_type": "code",
   "execution_count": 19,
   "metadata": {},
   "outputs": [
    {
     "data": {
      "text/plain": [
       "array([\"I have copy of this on VHS, I think they (The television networks) should play this every year for the next twenty years. So that we don't forget what was and that we remember not to do the same mistakes again. Like putting some people in the director's chair, where they don't belong. This movie Rappin' is like a vaudevillian musical, for those who can't sing, or act. This movie is as much fun as trying to teach the 'blind' to drive a city bus.<br /><br />John Hood, (Peebles) has just got out of prison and he's headed back to the old neighborhood. In serving time for an all-to-nice crime of necessity, of course. John heads back onto the old street and is greeted by kids dogs old ladies and his peer homeys as they dance and sing all along the way.<br /><br />I would recommend this if I was sentimental, or if in truth someone was smoking medicinal pot prescribed by a doctor for glaucoma. Either way this is a poorly directed, scripted, acted and even produced (I never thought I'd sat that) satire of ghetto life with the 'Hood'. Although, I think the redeeming part of the story, through the wannabe gang fight sequences and the dance numbers, his friends care about their neighbors and want to save the ghetto from being torn down and cleaned up. <br /><br />Forget Sonny spoon, Mario could have won an Oscar for that in comparison to this Rap. Oh well if you find yourself wanting to laugh yourself silly and three-quarters embarrassed, be sure to drink first. <br /><br />And please, watch responsibly. (No stars, better luck next time!)\",\n",
       "       \"After several extremely well ratings to the point of SUPERB, I was extremely pleased with the film. The film was dark, moving, the anger, the pain, the guilt and a very extremely convincing demon.<br /><br />I had initially expected to see many special effects, and like a lover's caress, it blew me away with the subtlety and the rightness of it. Brian, I am again blown away with your artistry with the telling of the story and your care of the special effects. You will go a long way, my friend. I will definitely be the president of your fan club.<br /><br />Eric Etebari, the best actor award, was the number one choice. You made Jr. Lopez look like a child compared to Kasadya. :) <br /><br />Overall, the acting, story line, the high quality filming and awesome effects, it was fantastic. I just wish it were longer. I am looking forward to The Dreamless with extremely high expectations.\",\n",
       "       'I still don\\'t know why I forced myself to sit through the whole thing. This \"film\" wasn\\'t worth the Memorex DVD-R it was burned on; I thought I was watching the end result of a group of middle schoolers stealing their parents\\' camcorder. This is by far the worst movie ever made. I truly, from the bottom of my heart, want to sue Aaron Yamasato for the two hours he stole from my life.<br /><br />So apparently, it\\'s supposed to be bad on purpose; However, if you should end up in Hell and are forced to watch this 90-minute coil of doo-doo, you\\'ll see that Yamasato is really trying hard to make an awesome flick. The actors attempt dramatic kick-ass performances comparable to Crimson Tide but come closer to The Marine.<br /><br />The crap acting is just the tip of the iceberg. The camera angles are awful. The story is C-movie at best-- the plot isn\\'t even good enough to be considered B-movie caliber. The dialogue attempts to be dynamic and witty, but is crap like everything else. Rumor has it that a hard copy of the screenplay actually attracts flies. Plus, the techno score is annoying... not because it\\'s techno, but because it\\'s NON-STOP. That\\'s right, the music plays in the background THE WHOLE TIME, acting as a subliminal reminder of how bad this thing is. I don\\'t care what the disclaimer claims, I don\\'t buy it. BOTS was not made this bad on purpose, because it takes itself WAY too serious for what it was: a joke.<br /><br />This \"film\" was very low-budget. But that is no excuse for its record-setting suck factor. Great films are born of substance, not budget. BOTS had neither.<br /><br />Allow me to further articulate the overwhelming power of this 90-minute waste of time: if I were having a three-way with Jessica Alba and Jessica Biel in front of a TV and Blood of the Samurai came on, I\\'d be out of there quicker than Steven Seagal in Executive Decision.<br /><br />Undoubtedly, some people will try to defend the movie. Two, maybe three. They\\'ll say, \"it\\'s grindhouse chop-socky!\" or \"cheesy in a good way!\" or \"it\\'s so bad, it\\'s good!\" Those people are idiots. A movie is either good, or it\\'s bad. There\\'s no such thing as a good bad movie. But there ARE such things as idiots that like crappy movies. Don\\'t get me wrong; there are lots of cornball not-to-be-taken-seriously movies out there that are enjoyable and entertaining. Slither is one. BOTS is not.<br /><br />This suckfest runs about an hour and a half, and in my humble opinion, it\\'s 90 minutes too long. The best thing about this \"film\" is the DVD cover, so next time you\\'re near the Wal-Mart DVD bargain bin, take a look at it-- DON\\'T TOUCH IT, just look-- and quietly walk away.',\n",
       "       ...,\n",
       "       'Do not expect a depiction of the \"truth\". However, the accounts of these veterans of the Iraqi & Afghanistan wars demand thoughtful consideration. <br /><br />The major strength of the film is that it vividly portrays the words and war wounds of these vets and their post-war struggles to reconstruct some degree of normalcy and functionality to their lives. <br /><br />My major criticism of the film is twofold: it is one-sided and it advocates anti-war activism but nothing more to correct the serious shortcomings of the military\\'s and Veterans Affairs\\' programs for helping those who\\'ve suffered and still suffer the traumas of war. These are NOT fatal flaws of the film.<br /><br />As a veteran myself, I know that the horrible aftermath of war is real, and these young men and women articulate it very well. These vets vividly describe the physical and mental pain and torment that most veterans experience and that ordinary people need to understand because the horrors of ALL wars are so traumatic and disturbing.',\n",
       "       \"The League of Gentlemen is one of the funniest, strangest, darkest and most unforgettable comedies of our time. So much so, it paved the way for more comedies of its ilk, many of which have copied the style, but have never succeeded.<br /><br />Unlike every other sketch show around, the characters of The League of Gentlemen are all loosely connected. Firstly they all live in the fictional town of Royston Vasey, in the back of beyond of Northern England. <br /><br />The first characters to greet newcomers are Tubbs and Edwrad, the pig-faced owners of a supposedly local shop situated so far away most of the residents probably don't know of its existence. Other oddities include: the Denton family, with an obsession with hygiene, chastity and toads; Hillary Briss who sells a special yet thankfully unknown brand of meat; Pauline, a restart officer with a sharp tongue and even sharper pens; Mr. Chinnery, kind-hearted vet and menace to all things four-legged; Geoff Tipps, a plastics salesman with a vicious sense of humour, often involving guns, electric tubes and . . . . . . . PLUMS!!!!! <br /><br />Despite being a comedy at heart, The League of Gentlemen often transcends genres whilst never appearing to be spoofing or ripping off other people's material. There are several horror references such as the disappearance of a hiker, a pair of silent twins, an obsessive circus owner, and a sudden outbreak of nosebleeds. Even more striking are moments when the series takes on a more sobre tone and aforementioned characters such as Pauline and Geoff are shown in a more sympathetic, vulnerable light. The film adaptation is the best demonstration of this, but some fans may decide they belong local.<br /><br />The equally underrated third series also takes a different route, instead of sketches each episode focuses on an individual character with each storyline leading to one conclusion involving a plastic bag and a runaway theatre company van. Although many fans may not enjoy the structure of the film or the third series as much as the first two, they're certainly signs to how inventive The League of Gentlemen can be, and how unafraid to explore new areas.<br /><br />In short, The League of Gentlemen is definitely worth a look, as like the welcome signs says: YOU'LL NEVER LEAVE!\",\n",
       "       \"Narratives \\x96 whether written, visual or poetic epics \\x96 generally try to avoid too may characters; readers and viewers, after all, can be too easily overwhelmed by trying to keep track of who exactly is who. This is especially true in film, I think, simply because we cannot easily go back to refresh our memory in a cinema. Viewers like myself, however, don't have that problem because we see all our films on DVD or VHS.<br /><br />A year ago I was introduced to Audrey Tautou, a French actress, whom I first saw in The Fabulous Destiny of Amelie Poulain (2001) and later in A Very Long Engagement (2004), both of which were finely crafted and complex stories with a large cast of characters. This earlier offering exceeds the others in both ways: more characters and more complexity.<br /><br />Now, other directors have used those techniques before: Robert Altman with The Player (1992), Short Cuts (1993), Gosford Park (2001) and others; Paul Thomas Anderson did the same with Magnolia (1999). Stanley Kramer did it with A Mad, Mad, Mad, Mad World in 1963, a comedy of almost epic proportions. The difference with this film is, first the director lets us 'see' inside the head of some of the characters and second, some scenes are repeated as means to refresh the viewer's memory as the story flip-flops between different time periods.<br /><br />The basic \\x96 the core, so to speak \\x96 story concerns a young woman, Irene (Tautou) who is told, by a fellow commuter on a train, that she will meet her true love on that day. This occurs in the first few minutes of the film. The clever irony at this point is that Irene doesn't realize that the young man opposite (Gilbert Robin) may be that 'one true love'. And, nor does he...<br /><br />They go their separate ways with neither realizing the potential significance of their close encounter. However, chaos results throughout the rest of the day, not only for the two young people, but for the rest of the characters who appear in a series of cleverly constructed and interwoven vignettes that all seem to be going nowhere, and yet...<br /><br />If the story were simply that, it could tend to be boring, and even quite predictable. Not so. The script and the director rip into our expectations with a host of innovative scenes that are all too commonplace, but which are turned into believable, extraordinary events that allow the two possible lovers to meet again. For example, the next time some bird poo from the sky drops onto a book or paper of yours, consider your alternatives; two characters make an obvious choice that must occur before Irene and her man of destiny meet again. Or what about a stone chip flying onto your windscreen? Consider again what would happen...<br /><br />All of that is interesting enough. What was more interesting for me was assessing each new man who came along and trying to decide whether this guy was THE ONE for Irene, or whether it was, in fact, the young man on the train. That kept me guessing for a while.<br /><br />I'll let you think about that, should you see this delightful romp.<br /><br />Recommended for all.\"],\n",
       "      dtype=object)"
      ]
     },
     "execution_count": 19,
     "metadata": {},
     "output_type": "execute_result"
    }
   ],
   "source": [
    "reviews_train['review'].unique()"
   ]
  },
  {
   "cell_type": "code",
   "execution_count": 20,
   "metadata": {},
   "outputs": [
    {
     "data": {
      "text/plain": [
       "-1    12500\n",
       " 1    12500\n",
       "Name: Label, dtype: int64"
      ]
     },
     "execution_count": 20,
     "metadata": {},
     "output_type": "execute_result"
    }
   ],
   "source": [
    "reviews_train['Label'].value_counts()"
   ]
  },
  {
   "cell_type": "code",
   "execution_count": 21,
   "metadata": {},
   "outputs": [
    {
     "data": {
      "text/plain": [
       "<matplotlib.axes._subplots.AxesSubplot at 0x27b18239f48>"
      ]
     },
     "execution_count": 21,
     "metadata": {},
     "output_type": "execute_result"
    },
    {
     "data": {
      "image/png": "[encoded data removed]",
      "text/plain": [
       "<Figure size 432x360 with 1 Axes>"
      ]
     },
     "metadata": {},
     "output_type": "display_data"
    }
   ],
   "source": [
    "sns.set(rc={'figure.figsize':(6,5)})\n",
    "sns.countplot(reviews_train['Label'])"
   ]
  },
  {
   "cell_type": "code",
   "execution_count": 22,
   "metadata": {},
   "outputs": [
    {
     "data": {
      "image/png": "[encoded data removed]",
      "text/plain": [
       "<Figure size 432x360 with 1 Axes>"
      ]
     },
     "metadata": {},
     "output_type": "display_data"
    }
   ],
   "source": [
    "#character count link 4\n",
    "reviews_train[reviews_train['Label']==1]['review'].apply(lambda y: np.log1p(len(y))).hist(alpha=0.5, color='blue', label='Positive')\n",
    "reviews_train[reviews_train['Label']==-1]['review'].apply(lambda y: np.log1p(len(y))).hist(alpha=0.5, color='yellow', label='Negative')\n",
    "plt.title('Character count for reviews')\n",
    "plt.legend();\n",
    "# alpha is for the darkness of color"
   ]
  },
  {
   "cell_type": "code",
   "execution_count": 23,
   "metadata": {},
   "outputs": [
    {
     "data": {
      "text/plain": [
       "(25000, 3)"
      ]
     },
     "execution_count": 23,
     "metadata": {},
     "output_type": "execute_result"
    }
   ],
   "source": [
    "reviews_test.shape"
   ]
  },
  {
   "cell_type": "code",
   "execution_count": 24,
   "metadata": {},
   "outputs": [
    {
     "data": {
      "text/plain": [
       "array([-2,  2], dtype=int64)"
      ]
     },
     "execution_count": 24,
     "metadata": {},
     "output_type": "execute_result"
    }
   ],
   "source": [
    "reviews_test['Label'].unique()"
   ]
  },
  {
   "cell_type": "code",
   "execution_count": 25,
   "metadata": {},
   "outputs": [],
   "source": [
    "from bs4 import BeautifulSoup\n",
    "# dataset.review = dataset.review.apply(lambda r: BeautifulSoup(r, 'html.parser').get_text())"
   ]
  },
  {
   "cell_type": "code",
   "execution_count": 26,
   "metadata": {},
   "outputs": [],
   "source": [
    "import spacy\n",
    "import en_core_web_sm\n",
    "from spacy.lang.en import English\n",
    "en_core_web_sm.load()\n",
    "from  spacy.lang.en.stop_words import STOP_WORDS\n",
    "from nltk.corpus import stopwords\n",
    "import string"
   ]
  },
  {
   "cell_type": "code",
   "execution_count": 58,
   "metadata": {},
   "outputs": [],
   "source": [
    "from sklearn.feature_extraction import DictVectorizer\n",
    "from sklearn.preprocessing import FunctionTransformer\n",
    "from sklearn.feature_extraction.text import CountVectorizer,TfidfVectorizer,HashingVectorizer\n",
    "from sklearn.base import TransformerMixin\n",
    "from sklearn.pipeline import Pipeline\n",
    "\n",
    "\n",
    "import html as ihtml\n",
    "import re"
   ]
  },
  {
   "cell_type": "code",
   "execution_count": 28,
   "metadata": {},
   "outputs": [],
   "source": [
    "from nltk.corpus import stopwords\n",
    "from nltk.stem import SnowballStemmer\n",
    "from nltk.stem import WordNetLemmatizer\n",
    "from nltk import word_tokenize"
   ]
  },
  {
   "cell_type": "code",
   "execution_count": 29,
   "metadata": {},
   "outputs": [],
   "source": [
    "stopWords = stopwords.words('english')"
   ]
  },
  {
   "cell_type": "code",
   "execution_count": 30,
   "metadata": {},
   "outputs": [],
   "source": [
    "stemmer = PorterStemmer()"
   ]
  },
  {
   "cell_type": "code",
   "execution_count": 31,
   "metadata": {},
   "outputs": [],
   "source": [
    "snowballstemmer = SnowballStemmer('english')"
   ]
  },
  {
   "cell_type": "code",
   "execution_count": 32,
   "metadata": {},
   "outputs": [],
   "source": [
    "lemmatizer = WordNetLemmatizer()\n"
   ]
  },
  {
   "cell_type": "code",
   "execution_count": 33,
   "metadata": {},
   "outputs": [
    {
     "data": {
      "text/plain": [
       "review    After several extremely well ratings to the po...\n",
       "Label                                                     1\n",
       "file                                            7290_10.txt\n",
       "Name: 9488, dtype: object"
      ]
     },
     "execution_count": 33,
     "metadata": {},
     "output_type": "execute_result"
    }
   ],
   "source": [
    "reviews_train.iloc[1]"
   ]
  },
  {
   "cell_type": "code",
   "execution_count": 34,
   "metadata": {},
   "outputs": [],
   "source": [
    "from gensim.parsing.preprocessing import remove_stopwords\n",
    "from gensim.parsing.preprocessing import strip_punctuation\n",
    "from gensim.parsing.preprocessing import strip_tags\n",
    "from gensim.parsing.preprocessing import strip_multiple_whitespaces"
   ]
  },
  {
   "cell_type": "code",
   "execution_count": 35,
   "metadata": {},
   "outputs": [],
   "source": [
    "def rmvhtmltags(text):\n",
    "    remreg = re.compile('<.*?>')\n",
    "    cleartext = re.sub(remreg, '', text)\n",
    "    return text\n",
    "# Function to remove URLs starting with https/http \n",
    "def remove_urls (vTEXT):\n",
    "    vTEXT = re.sub(r'(https|http)?:\\/\\/(\\w|\\.|\\/|\\?|\\=|\\&|\\%)*\\b', '', vTEXT, flags=re.MULTILINE)\n",
    "    return(vTEXT)\n",
    "\n",
    "def rmvspclcharacter(text):\n",
    "\n",
    "    #convert to lowercase and ignore special charcter\n",
    "    clearspcl = re.sub(r'[^A-Za-z0-9\\s.]', r'', str(text).lower())\n",
    "    clearspcl = re.sub(r'\\n', r' ', text)\n",
    "    \n",
    "    \n",
    "    clearspcl = \" \".join([word for word in text.split() if word not in stopWords])\n",
    "    \n",
    "#     clearspcl\n",
    "\n",
    "\n",
    "#     print(' '.join(stemming_texts))\n",
    "    return text\n",
    "    "
   ]
  },
  {
   "cell_type": "code",
   "execution_count": 36,
   "metadata": {},
   "outputs": [],
   "source": [
    "# def stemming_text(text):\n",
    "#     processed_positive_words_list=[]\n",
    "#     for i in reviews_train.index:\n",
    "#         stemmedwords = []\n",
    "#         for words in word_tokenize(text):\n",
    "#             if len(words) > 1 and words not in stopWords:\n",
    "#                 stemmedwords.append(snowballstemmer.stem(words))\n",
    "#         if reviews_train.iloc[i]['Label'] == 1:\n",
    "#             processed_positive_words_list+=(stemmedwords)\n",
    "    \n",
    "\n",
    "\n",
    "    "
   ]
  },
  {
   "cell_type": "code",
   "execution_count": 38,
   "metadata": {},
   "outputs": [],
   "source": [
    "def unique_list(l):\n",
    "    ulist = []\n",
    "    [ulist.append(x) for x in l if x not in ulist]\n",
    "    return ulist\n",
    "    "
   ]
  },
  {
   "cell_type": "code",
   "execution_count": 40,
   "metadata": {},
   "outputs": [],
   "source": [
    "\n",
    "\n",
    "\n",
    "def dataprocessing(x):\n",
    "    x = rmvhtmltags(x)\n",
    "    x = remove_urls(x)\n",
    "\n",
    "    x = x.lower()\n",
    "    x = rmvspclcharacter(x)\n",
    "#     x = stemmer_1(x)\n",
    "    x = remove_stopwords(x)\n",
    "    x = strip_punctuation(x)\n",
    "    x = strip_multiple_whitespaces(x)\n",
    "    \n",
    "    x=' '.join([re.sub(r'\\d+', '',i) for i in word_tokenize(x)])\n",
    "#     x = stemming(x)\n",
    "    x = ' '.join(unique_list(x.split()))\n",
    "    return x\n",
    "\n",
    "\n",
    "\n",
    "\n",
    "\n",
    "\n",
    "\n",
    "\n",
    "\n",
    "\n",
    "    "
   ]
  },
  {
   "cell_type": "code",
   "execution_count": 41,
   "metadata": {},
   "outputs": [],
   "source": [
    "reviews_train['review'] = reviews_train['review'].map(lambda x: dataprocessing(x))"
   ]
  },
  {
   "cell_type": "code",
   "execution_count": 42,
   "metadata": {},
   "outputs": [
    {
     "data": {
      "text/plain": [
       "'critically acclaimed psychological thriller based true events gabriel robin williams celebrated writer late night talk host captivated harrowing story young listener adoptive mother toni collette troubling questions arise boy s however finds drawn widening mystery hides deadly secret according film official synopsis br you stop reading comments watch now the how lose leg ending ms planning new life chopped off sent deleted scenes land it overkill nature physical mental ailments obvious time mr returns york possibly blindness question revelation certain highway video tape benefit re editing director cut bobby cannavale as jess don t seem initially believable couple scene establishing relationship helped set stage otherwise cast exemplary offers exceptionally strong characterization gay impersonation sandra oh anna joe morton ashe rory culkin pete logand perfect best all donna belongs creepy hall fame correct saying be know like guy psycho years organizations giving acting awards reach women slighter dispersion roles certainly noticed award consideration good and patrick stettner definitely evokes hitchcock makes getting sandwich vending machine suspenseful finally writers armistead maupin terry anderson deserve gratitude flight attendants everywhere'"
      ]
     },
     "execution_count": 42,
     "metadata": {},
     "output_type": "execute_result"
    }
   ],
   "source": [
    "reviews_train['review'][7]"
   ]
  },
  {
   "cell_type": "code",
   "execution_count": null,
   "metadata": {},
   "outputs": [],
   "source": []
  },
  {
   "cell_type": "code",
   "execution_count": null,
   "metadata": {},
   "outputs": [],
   "source": [
    "create_bow = make_pipeline(\n",
    "        make_union(\n",
    "            make_pipeline(\n",
    "                FunctionTransformer(lambda x: x['parsed_review'],validate=False),\n",
    "                CountVectorizer(ngram_range=(1,1))\n",
    "\n",
    "            ),\n",
    "            FunctionTransformer(lambda x: x.loc[:,'word_count'].values[:,np.newaxis],validate=False)\n",
    "        ),\n",
    "\n",
    " \n",
    "        #memory = cachedir,\n",
    "\n",
    ")\n",
    "\n",
    "create_bow_pre = make_column_transformer(\n",
    "    (create_bow,'review')\n",
    ")"
   ]
  },
  {
   "cell_type": "code",
   "execution_count": 43,
   "metadata": {},
   "outputs": [],
   "source": [
    "# def lemmatizarion(text):\n",
    "#     text = nlp(text)\n",
    "#     text = ' '.join([word.lemma_ if word.lemma_ != '-PRON-' else word.text for word in text])\n",
    "#     return text"
   ]
  }
 ],
 "metadata": {
  "kernelspec": {
   "display_name": "Python 3",
   "language": "python",
   "name": "python3"
  },
  "language_info": {
   "codemirror_mode": {
    "name": "ipython",
    "version": 3
   },
   "file_extension": ".py",
   "mimetype": "text/x-python",
   "name": "python",
   "nbconvert_exporter": "python",
   "pygments_lexer": "ipython3",
   "version": "3.7.4"
  }
 },
 "nbformat": 4,
 "nbformat_minor": 2
}
